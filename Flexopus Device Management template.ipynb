{
  "nbformat": 4,
  "nbformat_minor": 0,
  "metadata": {
    "colab": {
      "provenance": [],
      "toc_visible": true,
      "private_outputs": true
    },
    "kernelspec": {
      "name": "python3",
      "display_name": "Python 3"
    },
    "language_info": {
      "name": "python"
    }
  },
  "cells": [
    {
      "cell_type": "markdown",
      "source": [
        "# Flexopus Device Management template\n",
        "\n",
        "## What is this?\n",
        "In this Notebook, we created a simplified version of [Google's walktrough](https://colab.research.google.com/github/google/android-management-api-samples/blob/master/notebooks/quickstart.ipynb) on how to use the Android Device Management API.\n",
        "\n",
        "If you are not familiar with Google Colaboratory (Colab), don't worry, it's really easy to use. A Colab Notebook consists of text and code blocks (or cells), written in Python programming language. Every block can be run using the play button on the left side of each of them. Click in a block to make it visible. Each code block has an output section right below the block where the code responses are printed.\n",
        "\n",
        "The platform also provides so-called _forms_, which wrap over code block, allowing you to only see the importand input fields. We use this functionality to simplify the Notebook and focus only on what you will really use.\n",
        "\n",
        "## How to get started?\n",
        "This is a read-only document, so you will have to make a copy of it to save your changes.\n",
        "1. Change to the **@gmail** account that you will use to provision the devices (top right corner, account selection).\n",
        "2. Click on **Copy to Drive** on the top left part of the header. This will create a file named _Copy of Flexopus Device Management template.ipynb_ in you Google Drive's **Colab Notebooks** folder, and open it in Colab instantly.\n",
        "3. Click the name on the top left corner to modify it to your preference.\n",
        "4. Now you can start following the steps below.\n",
        "\n",
        "### First run\n",
        "When first using this notebook, make sure you follow **Steps 1-4**, running each block one after the other. Some of them requires some interaction, namely navigating to another url, and paste in some codes that the other web pages provide for you. Then run **Step 6** and **7** to create a policy and enroll devices. Please note that the order of execution matters!\n",
        "\n",
        "### Enrolling multiple devices\n",
        "The runtime environment preserves your variables while you are actively working. This means that to enroll multiple devices, one after the other, you will only need to run **Step 7** again, not all the previous steps.\n",
        "\n",
        "### Coming back to this notebook\n",
        "Make sure to work on a copy of this notebook in your Drive to preserve information. This way you can come back any time to enroll new devices, make changes to the policy, or delete devices (detach them from the enterprise). When opening the notebook again, please make sure to check that the entered `cloud_project_id` and `enterprise_name` are correct, and run **Steps 1**, **2**, and **4**.\n",
        "\n",
        "To enroll a new device with **Step 7**, please make sure you run **Step 6** first, even if you make no changes to the policy.\n",
        "\n",
        "In case you have lost your notebook, don't worry. Make another copy and:\n",
        "* Retrieve your `cloud_project_id` from https://console.cloud.google.com/cloud-resource-manager\n",
        "* Retrieve your `enterprise_name` from https://play.google.com/work/adminsettings, or run **Step 3** again, it will also give you back the previously created enterprise.\n",
        "* If you do not remember your policy's name, list the created policies with **Step 5.1**\n",
        "\n",
        "If you have any questions, do not hesitate to contact us."
      ],
      "metadata": {
        "id": "an5yZBhhDbdW"
      }
    },
    {
      "cell_type": "code",
      "source": [
        "# @title # 1. Enter your project ID from Google Cloud platform { display-mode: \"form\" }\n",
        "# @markdown If you do not have a Google Cloud Project yet, you can create one in the Google Cloud Console:\n",
        "# @markdown 1. Go to the [Cloud Console](https://console.cloud.google.com/cloud-resource-manager).\n",
        "# @markdown 2. Click CREATE PROJECT.\n",
        "# @markdown 3. Enter your project details, and then click CREATE.\n",
        "# @markdown 4. Take note of the project ID and paste it below, then run the cell.\n",
        "cloud_project_id = '<paste-your-id-here>' # @param {type:\"string\"}"
      ],
      "metadata": {
        "id": "3K2pIlSyyVLx"
      },
      "execution_count": null,
      "outputs": []
    },
    {
      "cell_type": "code",
      "execution_count": null,
      "metadata": {
        "id": "_hHOs4iIxfpA"
      },
      "outputs": [],
      "source": [
        "# @title # 2. Authorize account { display-mode: \"form\" }\n",
        "# @markdown Run this block to authorize Colab to access your devices. You will have to follow the printed url, sign in with your @gmail account, and copy the authorization code. Then close the new window and paste the code in the prompt field.\n",
        "from apiclient.discovery import build\n",
        "from google_auth_oauthlib.flow import Flow\n",
        "\n",
        "# This is a public OAuth config that you can use to run this guide.\n",
        "# However, use different credentials when building your own solution.\n",
        "CLIENT_CONFIG = {\n",
        "  'web': {\n",
        "    'client_id':'882252295571-m8qpit609pj2hsql4j5k0bue1injrtd2.apps.googleusercontent.com',\n",
        "    'auth_uri':'https://accounts.google.com/o/oauth2/auth',\n",
        "    'token_uri':'https://oauth2.googleapis.com/token',\n",
        "    'auth_provider_x509_cert_url':'https://www.googleapis.com/oauth2/v1/certs',\n",
        "    'client_secret':'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'\n",
        "  }\n",
        "}\n",
        "SCOPES = ['https://www.googleapis.com/auth/androidmanagement']\n",
        "CALLBACK_URL = 'https://google.github.io/android-management-api-samples/oauth_callback.html'\n",
        "\n",
        "# Run the OAuth flow.\n",
        "flow = Flow.from_client_config(CLIENT_CONFIG, SCOPES)\n",
        "flow.redirect_uri = CALLBACK_URL\n",
        "auth_url, _ = flow.authorization_url()\n",
        "print('Please visit this URL to authorize this application: {}'.format(auth_url))\n",
        "\n",
        "code = input('Enter the authorization code: ')\n",
        "flow.fetch_token(code=code)\n",
        "\n",
        "# Create the API client.\n",
        "androidmanagement = build('androidmanagement', 'v1', credentials=flow.credentials)\n",
        "\n",
        "print('\\nAuthentication succeeded.')"
      ]
    },
    {
      "cell_type": "code",
      "source": [
        "# @title # 3. Create an enterprise (required only once) { display-mode: \"form\" }\n",
        "\n",
        "# @markdown An **`Enterprise`** resource binds an organization to your Android Management solution. **`Devices`** and **`Policies`** both belong to an enterprise.\n",
        "\n",
        "# @markdown To create an enterprise you need a **Gmail account** that's not already associated with an enterprise.\n",
        "\n",
        "# @markdown To start the enterprise creation flow, **run this code block**.\n",
        "\n",
        "# @markdown If you've already created an enterprise for this project, you can skip this step and enter your enterprise name in the next cell.\n",
        "\n",
        "CALLBACK_URL = 'https://storage.googleapis.com/android-management-quick-start/enterprise_signup_callback.html'\n",
        "\n",
        "# Generate a signup URL where the enterprise admin can signup with a Gmail\n",
        "# account.\n",
        "signup_url = androidmanagement.signupUrls().create(\n",
        "    projectId=cloud_project_id,\n",
        "    callbackUrl=CALLBACK_URL\n",
        ").execute()\n",
        "\n",
        "print('Please visit this URL to create an enterprise:', signup_url['url'])\n",
        "\n",
        "enterprise_token = input('Enter the code: ')\n",
        "\n",
        "# Complete the creation of the enterprise and retrieve the enterprise name.\n",
        "enterprise = androidmanagement.enterprises().create(\n",
        "    projectId=cloud_project_id,\n",
        "    signupUrlName=signup_url['name'],\n",
        "    enterpriseToken=enterprise_token,\n",
        "    body={}\n",
        ").execute()\n",
        "\n",
        "enterprise_name = enterprise['name']\n",
        "\n",
        "print('\\nYour enterprise name is', enterprise_name)"
      ],
      "metadata": {
        "id": "xZMoeWl40EAf"
      },
      "execution_count": null,
      "outputs": []
    },
    {
      "cell_type": "code",
      "source": [
        "# @title # 4. Enter the enterprise name { display-mode: \"form\" }\n",
        "enterprise_name = 'enterprises/<generated-enterprise-name>' # @param {type:\"string\"}\n"
      ],
      "metadata": {
        "id": "Objko_Qh0fHQ"
      },
      "execution_count": null,
      "outputs": []
    },
    {
      "cell_type": "code",
      "source": [
        "# @title # 5.1. List policies { display-mode: \"form\" }\n",
        "import pandas as pd\n",
        "response = androidmanagement.enterprises().policies().list(parent=enterprise_name).execute()\n",
        "pd.DataFrame(response['policies'])[['name', 'version']]"
      ],
      "metadata": {
        "id": "FMS8sdgP5tGS"
      },
      "execution_count": null,
      "outputs": []
    },
    {
      "cell_type": "code",
      "source": [
        "# @title # 5.2. Execute policy command { display-mode: \"form\" }\n",
        "import json\n",
        "policy = \"enterprises/<generated-enterprise-name>/policies/flexopus\" # @param {type:\"string\"}\n",
        "command = \"get information\" # @param [\"get information\", \"delete policy\"]\n",
        "if command == \"get information\":\n",
        "  response = androidmanagement.enterprises().policies().get(name=policy).execute()\n",
        "if command == \"delete policy\":\n",
        "  response = androidmanagement.enterprises().policies().delete(name=policy).execute()\n",
        "\n",
        "print(json.dumps(response, sort_keys=True, indent=4))"
      ],
      "metadata": {
        "id": "A4xgE_DhB62O"
      },
      "execution_count": null,
      "outputs": []
    },
    {
      "cell_type": "code",
      "source": [
        "# @title # 6. Create or update your policy { display-mode: \"form\" }\n",
        "# @markdown <font color=\"orange\">\n",
        "# @markdown ⚠️ WARNING:\n",
        "# @markdown Due to a know issue in the Google Management API, the provisioning\n",
        "# @markdown may stop at \"Installing work apps\", especially when setting up PoE\n",
        "# @markdown devices. If you experience this, change install type from\n",
        "# @markdown <code>KIOSK</code> to <code>AVAILABLE</code>. Once you have set up\n",
        "# @markdown the devices, you can update the policy to use  <code>KIOSK</code>\n",
        "# @markdown mode again.\n",
        "# @markdown </font>\n",
        "policy_name = \"flexopus\" # @param {type:\"string\"}\n",
        "install_type = \"KIOSK\" # @param [\"KIOSK\", \"AVAILABLE\"]\n",
        "policy_content = {\n",
        "  \"applications\": [\n",
        "    {\n",
        "      \"packageName\": \"com.flexopus.deviceconnect\",\n",
        "      \"installType\": install_type,\n",
        "      \"defaultPermissionPolicy\": \"GRANT\",\n",
        "      \"autoUpdateMode\": \"AUTO_UPDATE_HIGH_PRIORITY\"\n",
        "    }\n",
        "  ],\n",
        "  \"keyguardDisabled\": True,\n",
        "  \"systemUpdate\": {\n",
        "    \"type\": \"WINDOWED\",\n",
        "    \"startMinutes\": 120,\n",
        "    \"endMinutes\": 240\n",
        "  }\n",
        "}\n",
        "policy_name = enterprise_name + '/policies/' + policy_name\n",
        "\n",
        "androidmanagement.enterprises().policies().patch(\n",
        "    name=policy_name,\n",
        "    body=policy_content\n",
        ").execute()"
      ],
      "metadata": {
        "id": "ykqEKK7n1ERy"
      },
      "execution_count": null,
      "outputs": []
    },
    {
      "cell_type": "code",
      "source": [
        "# @title # 7. Generate an enrollment token { display-mode: \"form\" }\n",
        "# @markdown Generate a new enrollment token using the previously set `enterprise_name` and `policy_name`. Make sure you have run Step 6. before.\n",
        "enrollment_token = androidmanagement.enterprises().enrollmentTokens().create(\n",
        "    parent=enterprise_name,\n",
        "    body={\"policyName\": policy_name}\n",
        ").execute()\n",
        "\n",
        "print('Instead of email, enter: afw#setup')\n",
        "print()\n",
        "\n",
        "split_token = ' '.join([enrollment_token['value'][i:i+4] for i in range(0, len(enrollment_token['value']), 4)])\n",
        "print('Enrollment token:       ', split_token, '(without spaces)')\n",
        "print()\n",
        "print('Valid until:            ', enrollment_token['expirationTimestamp'])"
      ],
      "metadata": {
        "id": "ci_Hn9Dt1U9r"
      },
      "execution_count": null,
      "outputs": []
    },
    {
      "cell_type": "code",
      "source": [
        "# @title # 8.1 List devices { display-mode: \"form\" }\n",
        "response = androidmanagement.enterprises().devices().list(parent=enterprise_name).execute()\n",
        "pd.DataFrame(response['devices'])[[\n",
        "  'name', 'state', 'appliedState', 'policyCompliant', 'enrollmentTime', 'lastStatusReportTime', 'appliedPolicyVersion'\n",
        "]]"
      ],
      "metadata": {
        "id": "snmmDDIe-jKz"
      },
      "execution_count": null,
      "outputs": []
    },
    {
      "cell_type": "code",
      "source": [
        "# @title # 8.2. Execute device command { display-mode: \"form\" }\n",
        "device_name = \"enterprises/<generated-enterprise-name>/devices/<device-id>\" # @param {type:\"string\"}\n",
        "command = \"get information\" # @param [\"get information\", \"delete device\"]\n",
        "if command == \"get information\":\n",
        "  response = androidmanagement.enterprises().devices().get(name=device_name).execute()\n",
        "if command == \"delete device\":\n",
        "  response = androidmanagement.enterprises().devices().delete(name=device_name).execute()\n",
        "\n",
        "print(json.dumps(response, sort_keys=True, indent=4))"
      ],
      "metadata": {
        "id": "lPOnQ6oU_Rr4"
      },
      "execution_count": null,
      "outputs": []
    }
  ]
}